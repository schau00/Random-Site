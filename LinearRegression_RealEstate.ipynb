{
  "nbformat": 4,
  "nbformat_minor": 0,
  "metadata": {
    "colab": {
      "name": "LinearRegression_RealEstate.ipynb",
      "provenance": [],
      "authorship_tag": "ABX9TyPF8ZPMYX425D1tQrwP3M4v",
      "include_colab_link": true
    },
    "kernelspec": {
      "name": "python3",
      "display_name": "Python 3"
    }
  },
  "cells": [
    {
      "cell_type": "markdown",
      "metadata": {
        "id": "view-in-github",
        "colab_type": "text"
      },
      "source": [
        "<a href=\"https://colab.research.google.com/github/schau00/RealEstate_regression/blob/master/LinearRegression_RealEstate.ipynb\" target=\"_parent\"><img src=\"https://colab.research.google.com/assets/colab-badge.svg\" alt=\"Open In Colab\"/></a>"
      ]
    },
    {
      "cell_type": "code",
      "metadata": {
        "id": "83H6QXxXYpNr",
        "colab_type": "code",
        "colab": {}
      },
      "source": [
        "import numpy as np\n",
        "import pandas as pd\n",
        "import scipy\n",
        "import statsmodels.api as sm\n",
        "import matplotlib.pyplot as plt\n",
        "import seaborn as sns\n",
        "import sklearn "
      ],
      "execution_count": 0,
      "outputs": []
    },
    {
      "cell_type": "code",
      "metadata": {
        "id": "cDfPMTgwY_DY",
        "colab_type": "code",
        "colab": {}
      },
      "source": [
        "dataset = pd.read_csv('real_estate_price_size.csv')\n"
      ],
      "execution_count": 0,
      "outputs": []
    },
    {
      "cell_type": "code",
      "metadata": {
        "id": "C8JVccu2ebEW",
        "colab_type": "code",
        "colab": {}
      },
      "source": [
        "dataset.describe()"
      ],
      "execution_count": 0,
      "outputs": []
    },
    {
      "cell_type": "code",
      "metadata": {
        "id": "cm93VfsDg1cX",
        "colab_type": "code",
        "colab": {
          "base_uri": "https://localhost:8080/",
          "height": 34
        },
        "outputId": "f4a2a2aa-1de7-4af9-b293-4cc0e5aed2ff"
      },
      "source": [
        "dataset.shape"
      ],
      "execution_count": 32,
      "outputs": [
        {
          "output_type": "execute_result",
          "data": {
            "text/plain": [
              "(100, 2)"
            ]
          },
          "metadata": {
            "tags": []
          },
          "execution_count": 32
        }
      ]
    },
    {
      "cell_type": "markdown",
      "metadata": {
        "id": "LNLXD6uDje_M",
        "colab_type": "text"
      },
      "source": [
        "# A Scatter Plot Representing the Variations of **SIZE** of Real Estate wrt **PRICE** using ***Matplotlib***"
      ]
    },
    {
      "cell_type": "code",
      "metadata": {
        "id": "Oy6JmkB-hgCp",
        "colab_type": "code",
        "colab": {
          "base_uri": "https://localhost:8080/",
          "height": 310
        },
        "outputId": "35d354c8-4709-47ac-a7f9-5132f51ec97c"
      },
      "source": [
        "x=dataset['price']\n",
        "y=dataset['size']\n",
        "plt.scatter(x,y,label='size')\n",
        "plt.title('REAL ESTATE\\nPRICE VS SIZE')\n",
        "plt.xlabel('Price')\n",
        "plt.ylabel('Size')\n",
        "plt.legend()\n",
        "plt.show()\n"
      ],
      "execution_count": 134,
      "outputs": [
        {
          "output_type": "display_data",
          "data": {
            "image/png": "[encoded data removed]",
            "text/plain": [
              "<Figure size 432x288 with 1 Axes>"
            ]
          },
          "metadata": {
            "tags": []
          }
        }
      ]
    },
    {
      "cell_type": "markdown",
      "metadata": {
        "id": "nhwQUlfnlcQP",
        "colab_type": "text"
      },
      "source": [
        "# A Scatter Plot Representing the Variations of **PRICE** of Real Estate wrt **SIZE** using ***Matplotlib***"
      ]
    },
    {
      "cell_type": "markdown",
      "metadata": {
        "id": "IPIHIVpg5vZM",
        "colab_type": "text"
      },
      "source": [
        "x axis : SIZE\n",
        "y axis : PRICE"
      ]
    },
    {
      "cell_type": "code",
      "metadata": {
        "id": "A-D_gUC2kCgy",
        "colab_type": "code",
        "colab": {
          "base_uri": "https://localhost:8080/",
          "height": 310
        },
        "outputId": "dbdc5f8a-c8b8-4b39-b213-9988e8e32be3"
      },
      "source": [
        "x= dataset['size']\n",
        "y=dataset['price']\n",
        "plt.scatter(x,y,label='price',color='green')\n",
        "plt.xlabel('SIZE')\n",
        "plt.ylabel('PRICE')\n",
        "plt.title('REAL ESTATE\\nSIZE VS PRICE')\n",
        "plt.legend()\n",
        "plt.show()"
      ],
      "execution_count": 136,
      "outputs": [
        {
          "output_type": "display_data",
          "data": {
            "image/png": "[encoded data removed]",
            "text/plain": [
              "<Figure size 432x288 with 1 Axes>"
            ]
          },
          "metadata": {
            "tags": []
          }
        }
      ]
    },
    {
      "cell_type": "code",
      "metadata": {
        "id": "UPkIwy18mH5E",
        "colab_type": "code",
        "colab": {}
      },
      "source": [
        "print(x)"
      ],
      "execution_count": 0,
      "outputs": []
    },
    {
      "cell_type": "markdown",
      "metadata": {
        "id": "O-9Lxp7_mQD4",
        "colab_type": "text"
      },
      "source": [
        "This is a single variable linear regression of the form \n",
        "y = a + b*x\n",
        "# To determine the value of a,b the **OLS**(Ordinary Least Square) method is implemented using **Statsmodel**"
      ]
    },
    {
      "cell_type": "markdown",
      "metadata": {
        "id": "uE3j6YMc7Ny0",
        "colab_type": "text"
      },
      "source": [
        "x axis : SIZE\n",
        "y axis : PRICE"
      ]
    },
    {
      "cell_type": "code",
      "metadata": {
        "id": "JnVbP6cdnZMP",
        "colab_type": "code",
        "colab": {
          "base_uri": "https://localhost:8080/",
          "height": 50
        },
        "outputId": "94794222-9515-41f2-d7b9-52400b58539f"
      },
      "source": [
        "y = dataset['price']\n",
        "x = dataset['size']\n",
        "x = sm.add_constant(x)\n",
        "# a constant is added to predictor x\n",
        "\n"
      ],
      "execution_count": 124,
      "outputs": [
        {
          "output_type": "stream",
          "text": [
            "/usr/local/lib/python3.6/dist-packages/numpy/core/fromnumeric.py:2542: FutureWarning: Method .ptp is deprecated and will be removed in a future version. Use numpy.ptp instead.\n",
            "  return ptp(axis=axis, out=out, **kwargs)\n"
          ],
          "name": "stderr"
        }
      ]
    },
    {
      "cell_type": "code",
      "metadata": {
        "id": "New3qhoIoFjX",
        "colab_type": "code",
        "colab": {
          "base_uri": "https://localhost:8080/",
          "height": 459
        },
        "outputId": "76d7b07c-da78-4151-aaf1-c1ef9eaf51a2"
      },
      "source": [
        "# perform OLS\n",
        "z = sm.OLS(y,x).fit()\n",
        "z.summary()\n"
      ],
      "execution_count": 125,
      "outputs": [
        {
          "output_type": "execute_result",
          "data": {
            "text/html": [
              "<table class=\"simpletable\">\n",
              "<caption>OLS Regression Results</caption>\n",
              "<tr>\n",
              "  <th>Dep. Variable:</th>          <td>price</td>      <th>  R-squared:         </th> <td>   0.745</td>\n",
              "</tr>\n",
              "<tr>\n",
              "  <th>Model:</th>                   <td>OLS</td>       <th>  Adj. R-squared:    </th> <td>   0.742</td>\n",
              "</tr>\n",
              "<tr>\n",
              "  <th>Method:</th>             <td>Least Squares</td>  <th>  F-statistic:       </th> <td>   285.9</td>\n",
              "</tr>\n",
              "<tr>\n",
              "  <th>Date:</th>             <td>Thu, 19 Mar 2020</td> <th>  Prob (F-statistic):</th> <td>8.13e-31</td>\n",
              "</tr>\n",
              "<tr>\n",
              "  <th>Time:</th>                 <td>18:03:38</td>     <th>  Log-Likelihood:    </th> <td> -1198.3</td>\n",
              "</tr>\n",
              "<tr>\n",
              "  <th>No. Observations:</th>      <td>   100</td>      <th>  AIC:               </th> <td>   2401.</td>\n",
              "</tr>\n",
              "<tr>\n",
              "  <th>Df Residuals:</th>          <td>    98</td>      <th>  BIC:               </th> <td>   2406.</td>\n",
              "</tr>\n",
              "<tr>\n",
              "  <th>Df Model:</th>              <td>     1</td>      <th>                     </th>     <td> </td>   \n",
              "</tr>\n",
              "<tr>\n",
              "  <th>Covariance Type:</th>      <td>nonrobust</td>    <th>                     </th>     <td> </td>   \n",
              "</tr>\n",
              "</table>\n",
              "<table class=\"simpletable\">\n",
              "<tr>\n",
              "    <td></td>       <th>coef</th>     <th>std err</th>      <th>t</th>      <th>P>|t|</th>  <th>[0.025</th>    <th>0.975]</th>  \n",
              "</tr>\n",
              "<tr>\n",
              "  <th>const</th> <td> 1.019e+05</td> <td> 1.19e+04</td> <td>    8.550</td> <td> 0.000</td> <td> 7.83e+04</td> <td> 1.26e+05</td>\n",
              "</tr>\n",
              "<tr>\n",
              "  <th>size</th>  <td>  223.1787</td> <td>   13.199</td> <td>   16.909</td> <td> 0.000</td> <td>  196.986</td> <td>  249.371</td>\n",
              "</tr>\n",
              "</table>\n",
              "<table class=\"simpletable\">\n",
              "<tr>\n",
              "  <th>Omnibus:</th>       <td> 6.262</td> <th>  Durbin-Watson:     </th> <td>   2.267</td>\n",
              "</tr>\n",
              "<tr>\n",
              "  <th>Prob(Omnibus):</th> <td> 0.044</td> <th>  Jarque-Bera (JB):  </th> <td>   2.938</td>\n",
              "</tr>\n",
              "<tr>\n",
              "  <th>Skew:</th>          <td> 0.117</td> <th>  Prob(JB):          </th> <td>   0.230</td>\n",
              "</tr>\n",
              "<tr>\n",
              "  <th>Kurtosis:</th>      <td> 2.194</td> <th>  Cond. No.          </th> <td>2.75e+03</td>\n",
              "</tr>\n",
              "</table><br/><br/>Warnings:<br/>[1] Standard Errors assume that the covariance matrix of the errors is correctly specified.<br/>[2] The condition number is large, 2.75e+03. This might indicate that there are<br/>strong multicollinearity or other numerical problems."
            ],
            "text/plain": [
              "<class 'statsmodels.iolib.summary.Summary'>\n",
              "\"\"\"\n",
              "                            OLS Regression Results                            \n",
              "==============================================================================\n",
              "Dep. Variable:                  price   R-squared:                       0.745\n",
              "Model:                            OLS   Adj. R-squared:                  0.742\n",
              "Method:                 Least Squares   F-statistic:                     285.9\n",
              "Date:                Thu, 19 Mar 2020   Prob (F-statistic):           8.13e-31\n",
              "Time:                        18:03:38   Log-Likelihood:                -1198.3\n",
              "No. Observations:                 100   AIC:                             2401.\n",
              "Df Residuals:                      98   BIC:                             2406.\n",
              "Df Model:                           1                                         \n",
              "Covariance Type:            nonrobust                                         \n",
              "==============================================================================\n",
              "                 coef    std err          t      P>|t|      [0.025      0.975]\n",
              "------------------------------------------------------------------------------\n",
              "const       1.019e+05   1.19e+04      8.550      0.000    7.83e+04    1.26e+05\n",
              "size         223.1787     13.199     16.909      0.000     196.986     249.371\n",
              "==============================================================================\n",
              "Omnibus:                        6.262   Durbin-Watson:                   2.267\n",
              "Prob(Omnibus):                  0.044   Jarque-Bera (JB):                2.938\n",
              "Skew:                           0.117   Prob(JB):                        0.230\n",
              "Kurtosis:                       2.194   Cond. No.                     2.75e+03\n",
              "==============================================================================\n",
              "\n",
              "Warnings:\n",
              "[1] Standard Errors assume that the covariance matrix of the errors is correctly specified.\n",
              "[2] The condition number is large, 2.75e+03. This might indicate that there are\n",
              "strong multicollinearity or other numerical problems.\n",
              "\"\"\""
            ]
          },
          "metadata": {
            "tags": []
          },
          "execution_count": 125
        }
      ]
    },
    {
      "cell_type": "code",
      "metadata": {
        "id": "is3mn2jRplr8",
        "colab_type": "code",
        "colab": {
          "base_uri": "https://localhost:8080/",
          "height": 218
        },
        "outputId": "b4c2a1f7-12ae-43b9-e453-8225e421459e"
      },
      "source": [
        "print(x)\n",
        "x1 = dataset['size'] \n",
        "#print(x1)\n",
        "#converted a 2-d x array to 1-d x1 array\n",
        "#plt.scatter(x1,y)\n"
      ],
      "execution_count": 121,
      "outputs": [
        {
          "output_type": "stream",
          "text": [
            "0     234314.144\n",
            "1     228581.528\n",
            "2     281626.336\n",
            "3     401255.608\n",
            "4     458674.256\n",
            "         ...    \n",
            "95    252460.400\n",
            "96    310522.592\n",
            "97    383635.568\n",
            "98    225145.248\n",
            "99    274922.856\n",
            "Name: price, Length: 100, dtype: float64\n"
          ],
          "name": "stdout"
        }
      ]
    },
    {
      "cell_type": "code",
      "metadata": {
        "id": "O3jacO3dqQwA",
        "colab_type": "code",
        "colab": {
          "base_uri": "https://localhost:8080/",
          "height": 310
        },
        "outputId": "1a05526b-9f23-42f9-d487-e5a80081ee52"
      },
      "source": [
        "plt.scatter(x1,y)\n",
        "yhat = 101900 + 223.1787*x1\n",
        "regr = plt.plot(x1,yhat,color='red',label='Regression Line SIZE vs PRICE')\n",
        "plt.legend()\n",
        "plt.ylabel('Price')\n",
        "plt.xlabel('Size')\n",
        "plt.title('REAL ESTATE\\nRegression Line')\n",
        "plt.show()\n"
      ],
      "execution_count": 122,
      "outputs": [
        {
          "output_type": "display_data",
          "data": {
            "image/png": "[encoded data removed]",
            "text/plain": [
              "<Figure size 432x288 with 1 Axes>"
            ]
          },
          "metadata": {
            "tags": []
          }
        }
      ]
    },
    {
      "cell_type": "markdown",
      "metadata": {
        "id": "OWzJtqE15t5m",
        "colab_type": "text"
      },
      "source": [
        "x axis : PRICE\n",
        "y axis : SIZE"
      ]
    },
    {
      "cell_type": "code",
      "metadata": {
        "id": "_4aKy1Me7Ukh",
        "colab_type": "code",
        "colab": {
          "base_uri": "https://localhost:8080/",
          "height": 50
        },
        "outputId": "f0e6b952-acc3-4ad6-bc54-6ba5104fdac6"
      },
      "source": [
        "x = dataset['price']\n",
        "y = dataset['size']\n",
        "x = sm.add_constant(x) "
      ],
      "execution_count": 126,
      "outputs": [
        {
          "output_type": "stream",
          "text": [
            "/usr/local/lib/python3.6/dist-packages/numpy/core/fromnumeric.py:2542: FutureWarning: Method .ptp is deprecated and will be removed in a future version. Use numpy.ptp instead.\n",
            "  return ptp(axis=axis, out=out, **kwargs)\n"
          ],
          "name": "stderr"
        }
      ]
    },
    {
      "cell_type": "code",
      "metadata": {
        "id": "mC3jPKWL7h0U",
        "colab_type": "code",
        "colab": {
          "base_uri": "https://localhost:8080/",
          "height": 459
        },
        "outputId": "61996000-a46c-4155-e787-154bd6bf7c81"
      },
      "source": [
        "z = sm.OLS(y,x).fit()\n",
        "z.summary()"
      ],
      "execution_count": 127,
      "outputs": [
        {
          "output_type": "execute_result",
          "data": {
            "text/html": [
              "<table class=\"simpletable\">\n",
              "<caption>OLS Regression Results</caption>\n",
              "<tr>\n",
              "  <th>Dep. Variable:</th>          <td>size</td>       <th>  R-squared:         </th> <td>   0.745</td>\n",
              "</tr>\n",
              "<tr>\n",
              "  <th>Model:</th>                   <td>OLS</td>       <th>  Adj. R-squared:    </th> <td>   0.742</td>\n",
              "</tr>\n",
              "<tr>\n",
              "  <th>Method:</th>             <td>Least Squares</td>  <th>  F-statistic:       </th> <td>   285.9</td>\n",
              "</tr>\n",
              "<tr>\n",
              "  <th>Date:</th>             <td>Thu, 19 Mar 2020</td> <th>  Prob (F-statistic):</th> <td>8.13e-31</td>\n",
              "</tr>\n",
              "<tr>\n",
              "  <th>Time:</th>                 <td>18:03:48</td>     <th>  Log-Likelihood:    </th> <td> -642.81</td>\n",
              "</tr>\n",
              "<tr>\n",
              "  <th>No. Observations:</th>      <td>   100</td>      <th>  AIC:               </th> <td>   1290.</td>\n",
              "</tr>\n",
              "<tr>\n",
              "  <th>Df Residuals:</th>          <td>    98</td>      <th>  BIC:               </th> <td>   1295.</td>\n",
              "</tr>\n",
              "<tr>\n",
              "  <th>Df Model:</th>              <td>     1</td>      <th>                     </th>     <td> </td>   \n",
              "</tr>\n",
              "<tr>\n",
              "  <th>Covariance Type:</th>      <td>nonrobust</td>    <th>                     </th>     <td> </td>   \n",
              "</tr>\n",
              "</table>\n",
              "<table class=\"simpletable\">\n",
              "<tr>\n",
              "    <td></td>       <th>coef</th>     <th>std err</th>      <th>t</th>      <th>P>|t|</th>  <th>[0.025</th>    <th>0.975]</th>  \n",
              "</tr>\n",
              "<tr>\n",
              "  <th>const</th> <td> -122.3349</td> <td>   59.633</td> <td>   -2.051</td> <td> 0.043</td> <td> -240.675</td> <td>   -3.994</td>\n",
              "</tr>\n",
              "<tr>\n",
              "  <th>price</th> <td>    0.0033</td> <td>    0.000</td> <td>   16.909</td> <td> 0.000</td> <td>    0.003</td> <td>    0.004</td>\n",
              "</tr>\n",
              "</table>\n",
              "<table class=\"simpletable\">\n",
              "<tr>\n",
              "  <th>Omnibus:</th>       <td> 0.832</td> <th>  Durbin-Watson:     </th> <td>   2.143</td>\n",
              "</tr>\n",
              "<tr>\n",
              "  <th>Prob(Omnibus):</th> <td> 0.660</td> <th>  Jarque-Bera (JB):  </th> <td>   0.941</td>\n",
              "</tr>\n",
              "<tr>\n",
              "  <th>Skew:</th>          <td> 0.153</td> <th>  Prob(JB):          </th> <td>   0.625</td>\n",
              "</tr>\n",
              "<tr>\n",
              "  <th>Kurtosis:</th>      <td> 2.636</td> <th>  Cond. No.          </th> <td>1.19e+06</td>\n",
              "</tr>\n",
              "</table><br/><br/>Warnings:<br/>[1] Standard Errors assume that the covariance matrix of the errors is correctly specified.<br/>[2] The condition number is large, 1.19e+06. This might indicate that there are<br/>strong multicollinearity or other numerical problems."
            ],
            "text/plain": [
              "<class 'statsmodels.iolib.summary.Summary'>\n",
              "\"\"\"\n",
              "                            OLS Regression Results                            \n",
              "==============================================================================\n",
              "Dep. Variable:                   size   R-squared:                       0.745\n",
              "Model:                            OLS   Adj. R-squared:                  0.742\n",
              "Method:                 Least Squares   F-statistic:                     285.9\n",
              "Date:                Thu, 19 Mar 2020   Prob (F-statistic):           8.13e-31\n",
              "Time:                        18:03:48   Log-Likelihood:                -642.81\n",
              "No. Observations:                 100   AIC:                             1290.\n",
              "Df Residuals:                      98   BIC:                             1295.\n",
              "Df Model:                           1                                         \n",
              "Covariance Type:            nonrobust                                         \n",
              "==============================================================================\n",
              "                 coef    std err          t      P>|t|      [0.025      0.975]\n",
              "------------------------------------------------------------------------------\n",
              "const       -122.3349     59.633     -2.051      0.043    -240.675      -3.994\n",
              "price          0.0033      0.000     16.909      0.000       0.003       0.004\n",
              "==============================================================================\n",
              "Omnibus:                        0.832   Durbin-Watson:                   2.143\n",
              "Prob(Omnibus):                  0.660   Jarque-Bera (JB):                0.941\n",
              "Skew:                           0.153   Prob(JB):                        0.625\n",
              "Kurtosis:                       2.636   Cond. No.                     1.19e+06\n",
              "==============================================================================\n",
              "\n",
              "Warnings:\n",
              "[1] Standard Errors assume that the covariance matrix of the errors is correctly specified.\n",
              "[2] The condition number is large, 1.19e+06. This might indicate that there are\n",
              "strong multicollinearity or other numerical problems.\n",
              "\"\"\""
            ]
          },
          "metadata": {
            "tags": []
          },
          "execution_count": 127
        }
      ]
    },
    {
      "cell_type": "code",
      "metadata": {
        "id": "IcbmqIu698Ty",
        "colab_type": "code",
        "colab": {
          "base_uri": "https://localhost:8080/",
          "height": 218
        },
        "outputId": "4459dc86-0035-49f4-f7ff-7a21866a6a92"
      },
      "source": [
        "x1 = dataset['price']\n",
        "print(x1)"
      ],
      "execution_count": 129,
      "outputs": [
        {
          "output_type": "stream",
          "text": [
            "0     234314.144\n",
            "1     228581.528\n",
            "2     281626.336\n",
            "3     401255.608\n",
            "4     458674.256\n",
            "         ...    \n",
            "95    252460.400\n",
            "96    310522.592\n",
            "97    383635.568\n",
            "98    225145.248\n",
            "99    274922.856\n",
            "Name: price, Length: 100, dtype: float64\n"
          ],
          "name": "stdout"
        }
      ]
    },
    {
      "cell_type": "code",
      "metadata": {
        "id": "1B8o07ly-HlI",
        "colab_type": "code",
        "colab": {
          "base_uri": "https://localhost:8080/",
          "height": 310
        },
        "outputId": "d32e2af3-a925-44d2-d1ea-58545eb2ed12"
      },
      "source": [
        "plt.scatter(x1,y,color='green')\n",
        "yhat = (0.0033*x1) -122.3349 \n",
        "plt.plot(x1,yhat,color='red',label='Regression Line PRICE vs SIZE')\n",
        "plt.xlabel('Price')\n",
        "plt.ylabel('Size')\n",
        "plt.title('REAL ESTATE\\nREGRESSION LINE')\n",
        "plt.legend()\n",
        "plt.show()"
      ],
      "execution_count": 133,
      "outputs": [
        {
          "output_type": "display_data",
          "data": {
            "image/png": "[encoded data removed]",
            "text/plain": [
              "<Figure size 432x288 with 1 Axes>"
            ]
          },
          "metadata": {
            "tags": []
          }
        }
      ]
    },
    {
      "cell_type": "code",
      "metadata": {
        "id": "eHUZbY54-dYO",
        "colab_type": "code",
        "colab": {}
      },
      "source": [
        ""
      ],
      "execution_count": 0,
      "outputs": []
    }
  ]
}