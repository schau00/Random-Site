{
  "nbformat": 4,
  "nbformat_minor": 0,
  "metadata": {
    "colab": {
      "name": "Untitled3.ipynb",
      "provenance": [],
      "authorship_tag": "ABX9TyNT+0Q9egZ1uKpvRBsjW1/2",
      "include_colab_link": true
    },
    "kernelspec": {
      "name": "python3",
      "display_name": "Python 3"
    }
  },
  "cells": [
    {
      "cell_type": "markdown",
      "metadata": {
        "id": "view-in-github",
        "colab_type": "text"
      },
      "source": [
        "<a href=\"https://colab.research.google.com/github/schau00/RealEstate_regression/blob/master/HackerearthMLchallenge.ipynb\" target=\"_parent\"><img src=\"https://colab.research.google.com/assets/colab-badge.svg\" alt=\"Open In Colab\"/></a>"
      ]
    },
    {
      "cell_type": "code",
      "metadata": {
        "colab": {
          "resources": {
            "http://localhost:8080/nbextensions/google.colab/files.js": {
              "data": "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",
              "ok": true,
              "headers": [
                [
                  "content-type",
                  "application/javascript"
                ]
              ],
              "status": 200,
              "status_text": ""
            }
          },
          "base_uri": "https://localhost:8080/",
          "height": 72
        },
        "id": "c2l35QDlB2nh",
        "outputId": "2c714aaa-beae-492f-bbed-435062cfeb36"
      },
      "source": [
        "from google.colab import files\n",
        "uploaded = files.upload()"
      ],
      "execution_count": null,
      "outputs": [
        {
          "output_type": "display_data",
          "data": {
            "text/html": [
              "\n",
              "     <input type=\"file\" id=\"files-0248fb56-f17c-436b-a9af-0e938d2622fa\" name=\"files[]\" multiple disabled\n",
              "        style=\"border:none\" />\n",
              "     <output id=\"result-0248fb56-f17c-436b-a9af-0e938d2622fa\">\n",
              "      Upload widget is only available when the cell has been executed in the\n",
              "      current browser session. Please rerun this cell to enable.\n",
              "      </output>\n",
              "      <script src=\"/nbextensions/google.colab/files.js\"></script> "
            ],
            "text/plain": [
              "<IPython.core.display.HTML object>"
            ]
          },
          "metadata": {
            "tags": []
          }
        },
        {
          "output_type": "stream",
          "text": [
            "Saving train.csv to train.csv\n"
          ],
          "name": "stdout"
        }
      ]
    },
    {
      "cell_type": "code",
      "metadata": {
        "colab": {
          "base_uri": "https://localhost:8080/"
        },
        "id": "ga0VcrXOB5sj",
        "outputId": "c593d2c4-9e8d-4f7c-bc4f-867af9fcdfab"
      },
      "source": [
        "import numpy as np\n",
        "from matplotlib import pyplot as plt\n",
        "import pandas as pd\n",
        "%matplotlib inline\n",
        "data = pd.read_csv(\"train.csv\")\n",
        "print(data.head(5))"
      ],
      "execution_count": null,
      "outputs": [
        {
          "output_type": "stream",
          "text": [
            "         Product_id  Stall_no  ... Maximum_price  Selling_Price\n",
            "0  BRAE2NF6JA5GUEXG      37.0  ...        4713.0    4185.947700\n",
            "1  TUNE8SFB6RJN2HSD      38.0  ...       10352.0    9271.490256\n",
            "2  BRAEAR7WZPQGPBZU       9.0  ...        7309.0    6785.701362\n",
            "3  WATDZ2ZQ8JPDHCTJ      50.0  ...       20814.0   13028.917824\n",
            "4  JWSEBUKYQPMBZ3RK       7.0  ...        9261.0     906.553935\n",
            "\n",
            "[5 rows x 15 columns]\n"
          ],
          "name": "stdout"
        }
      ]
    },
    {
      "cell_type": "code",
      "metadata": {
        "colab": {
          "base_uri": "https://localhost:8080/",
          "height": 606
        },
        "id": "cekSHTflCYd9",
        "outputId": "039997c6-d954-4c69-e103-cfffe016b58a"
      },
      "source": [
        "data.loc[np.isnan(data['Minimum_price'])]\n",
        "data = data.dropna()\n",
        "data = data.reset_index(drop = True)\n",
        "data"
      ],
      "execution_count": null,
      "outputs": [
        {
          "output_type": "execute_result",
          "data": {
            "text/html": [
              "<div>\n",
              "<style scoped>\n",
              "    .dataframe tbody tr th:only-of-type {\n",
              "        vertical-align: middle;\n",
              "    }\n",
              "\n",
              "    .dataframe tbody tr th {\n",
              "        vertical-align: top;\n",
              "    }\n",
              "\n",
              "    .dataframe thead th {\n",
              "        text-align: right;\n",
              "    }\n",
              "</style>\n",
              "<table border=\"1\" class=\"dataframe\">\n",
              "  <thead>\n",
              "    <tr style=\"text-align: right;\">\n",
              "      <th></th>\n",
              "      <th>Product_id</th>\n",
              "      <th>Stall_no</th>\n",
              "      <th>instock_date</th>\n",
              "      <th>Market_Category</th>\n",
              "      <th>Customer_name</th>\n",
              "      <th>Loyalty_customer</th>\n",
              "      <th>Product_Category</th>\n",
              "      <th>Grade</th>\n",
              "      <th>Demand</th>\n",
              "      <th>Discount_avail</th>\n",
              "      <th>charges_1</th>\n",
              "      <th>charges_2 (%)</th>\n",
              "      <th>Minimum_price</th>\n",
              "      <th>Maximum_price</th>\n",
              "      <th>Selling_Price</th>\n",
              "    </tr>\n",
              "  </thead>\n",
              "  <tbody>\n",
              "    <tr>\n",
              "      <th>0</th>\n",
              "      <td>BRAE2NF6JA5GUEXG</td>\n",
              "      <td>37.0</td>\n",
              "      <td>2015-08-22 18:36:12.000</td>\n",
              "      <td>2</td>\n",
              "      <td>Lillyann</td>\n",
              "      <td>Yes</td>\n",
              "      <td>Fashion</td>\n",
              "      <td>1</td>\n",
              "      <td>68</td>\n",
              "      <td>0.0</td>\n",
              "      <td>376.0</td>\n",
              "      <td>11.0</td>\n",
              "      <td>2983.0</td>\n",
              "      <td>4713.0</td>\n",
              "      <td>4185.947700</td>\n",
              "    </tr>\n",
              "    <tr>\n",
              "      <th>1</th>\n",
              "      <td>TUNE8SFB6RJN2HSD</td>\n",
              "      <td>38.0</td>\n",
              "      <td>2016-03-27 21:19:13.000</td>\n",
              "      <td>24</td>\n",
              "      <td>Klynn</td>\n",
              "      <td>Yes</td>\n",
              "      <td>Fashion</td>\n",
              "      <td>0</td>\n",
              "      <td>51</td>\n",
              "      <td>0.0</td>\n",
              "      <td>397.0</td>\n",
              "      <td>12.0</td>\n",
              "      <td>7495.0</td>\n",
              "      <td>10352.0</td>\n",
              "      <td>9271.490256</td>\n",
              "    </tr>\n",
              "    <tr>\n",
              "      <th>2</th>\n",
              "      <td>BRAEAR7WZPQGPBZU</td>\n",
              "      <td>9.0</td>\n",
              "      <td>2015-08-18 19:25:22.000</td>\n",
              "      <td>447</td>\n",
              "      <td>Ridge</td>\n",
              "      <td>Yes</td>\n",
              "      <td>Child_care</td>\n",
              "      <td>0</td>\n",
              "      <td>10</td>\n",
              "      <td>0.0</td>\n",
              "      <td>250.0</td>\n",
              "      <td>9.0</td>\n",
              "      <td>5752.0</td>\n",
              "      <td>7309.0</td>\n",
              "      <td>6785.701362</td>\n",
              "    </tr>\n",
              "    <tr>\n",
              "      <th>3</th>\n",
              "      <td>WATDZ2ZQ8JPDHCTJ</td>\n",
              "      <td>50.0</td>\n",
              "      <td>2016-03-28 21:53:01.000</td>\n",
              "      <td>23</td>\n",
              "      <td>Abran</td>\n",
              "      <td>Yes</td>\n",
              "      <td>Educational</td>\n",
              "      <td>2</td>\n",
              "      <td>48</td>\n",
              "      <td>0.0</td>\n",
              "      <td>144.0</td>\n",
              "      <td>13.0</td>\n",
              "      <td>5090.0</td>\n",
              "      <td>20814.0</td>\n",
              "      <td>13028.917824</td>\n",
              "    </tr>\n",
              "    <tr>\n",
              "      <th>4</th>\n",
              "      <td>JWSEBUKYQPMBZ3RK</td>\n",
              "      <td>7.0</td>\n",
              "      <td>2016-03-29 22:58:53.000</td>\n",
              "      <td>63</td>\n",
              "      <td>Dustyn</td>\n",
              "      <td>Yes</td>\n",
              "      <td>Repair</td>\n",
              "      <td>1</td>\n",
              "      <td>35</td>\n",
              "      <td>1.0</td>\n",
              "      <td>211.0</td>\n",
              "      <td>4.0</td>\n",
              "      <td>2430.0</td>\n",
              "      <td>9261.0</td>\n",
              "      <td>906.553935</td>\n",
              "    </tr>\n",
              "    <tr>\n",
              "      <th>...</th>\n",
              "      <td>...</td>\n",
              "      <td>...</td>\n",
              "      <td>...</td>\n",
              "      <td>...</td>\n",
              "      <td>...</td>\n",
              "      <td>...</td>\n",
              "      <td>...</td>\n",
              "      <td>...</td>\n",
              "      <td>...</td>\n",
              "      <td>...</td>\n",
              "      <td>...</td>\n",
              "      <td>...</td>\n",
              "      <td>...</td>\n",
              "      <td>...</td>\n",
              "      <td>...</td>\n",
              "    </tr>\n",
              "    <tr>\n",
              "      <th>5392</th>\n",
              "      <td>WATE7VE2D62VEKW8</td>\n",
              "      <td>17.0</td>\n",
              "      <td>2016-03-28 19:55:43.000</td>\n",
              "      <td>24</td>\n",
              "      <td>Marquell</td>\n",
              "      <td>Yes</td>\n",
              "      <td>Technology</td>\n",
              "      <td>0</td>\n",
              "      <td>47</td>\n",
              "      <td>0.0</td>\n",
              "      <td>614.0</td>\n",
              "      <td>10.0</td>\n",
              "      <td>8174.0</td>\n",
              "      <td>11266.0</td>\n",
              "      <td>10277.520192</td>\n",
              "    </tr>\n",
              "    <tr>\n",
              "      <th>5393</th>\n",
              "      <td>SHOEF9G8Z4ZXF6WE</td>\n",
              "      <td>21.0</td>\n",
              "      <td>2015-02-11 15:09:26.000</td>\n",
              "      <td>55</td>\n",
              "      <td>Theodore</td>\n",
              "      <td>Yes</td>\n",
              "      <td>Child_care</td>\n",
              "      <td>0</td>\n",
              "      <td>35</td>\n",
              "      <td>0.0</td>\n",
              "      <td>269.0</td>\n",
              "      <td>5.0</td>\n",
              "      <td>3564.0</td>\n",
              "      <td>4920.0</td>\n",
              "      <td>4501.837200</td>\n",
              "    </tr>\n",
              "    <tr>\n",
              "      <th>5394</th>\n",
              "      <td>PBXEB9ZQ7HHCFXYG</td>\n",
              "      <td>36.0</td>\n",
              "      <td>2015-11-19 17:29:21.000</td>\n",
              "      <td>358</td>\n",
              "      <td>Galen</td>\n",
              "      <td>No</td>\n",
              "      <td>Repair</td>\n",
              "      <td>3</td>\n",
              "      <td>29</td>\n",
              "      <td>0.0</td>\n",
              "      <td>283.0</td>\n",
              "      <td>3.0</td>\n",
              "      <td>5303.0</td>\n",
              "      <td>14614.0</td>\n",
              "      <td>10218.878775</td>\n",
              "    </tr>\n",
              "    <tr>\n",
              "      <th>5395</th>\n",
              "      <td>NKCEAGXHRYTNTMG7</td>\n",
              "      <td>27.0</td>\n",
              "      <td>2015-12-08 04:19:33.000</td>\n",
              "      <td>452</td>\n",
              "      <td>Posey</td>\n",
              "      <td>Yes</td>\n",
              "      <td>Repair</td>\n",
              "      <td>0</td>\n",
              "      <td>8</td>\n",
              "      <td>0.0</td>\n",
              "      <td>267.0</td>\n",
              "      <td>3.0</td>\n",
              "      <td>4334.0</td>\n",
              "      <td>5849.0</td>\n",
              "      <td>5359.493997</td>\n",
              "    </tr>\n",
              "    <tr>\n",
              "      <th>5396</th>\n",
              "      <td>CAGE53FSAFWZRHFF</td>\n",
              "      <td>11.0</td>\n",
              "      <td>2016-01-20 19:45:35.000</td>\n",
              "      <td>58</td>\n",
              "      <td>Cutler</td>\n",
              "      <td>Yes</td>\n",
              "      <td>Technology</td>\n",
              "      <td>0</td>\n",
              "      <td>94</td>\n",
              "      <td>0.0</td>\n",
              "      <td>614.0</td>\n",
              "      <td>7.0</td>\n",
              "      <td>3975.0</td>\n",
              "      <td>5383.0</td>\n",
              "      <td>5220.013568</td>\n",
              "    </tr>\n",
              "  </tbody>\n",
              "</table>\n",
              "<p>5397 rows × 15 columns</p>\n",
              "</div>"
            ],
            "text/plain": [
              "            Product_id  Stall_no  ... Maximum_price  Selling_Price\n",
              "0     BRAE2NF6JA5GUEXG      37.0  ...        4713.0    4185.947700\n",
              "1     TUNE8SFB6RJN2HSD      38.0  ...       10352.0    9271.490256\n",
              "2     BRAEAR7WZPQGPBZU       9.0  ...        7309.0    6785.701362\n",
              "3     WATDZ2ZQ8JPDHCTJ      50.0  ...       20814.0   13028.917824\n",
              "4     JWSEBUKYQPMBZ3RK       7.0  ...        9261.0     906.553935\n",
              "...                ...       ...  ...           ...            ...\n",
              "5392  WATE7VE2D62VEKW8      17.0  ...       11266.0   10277.520192\n",
              "5393  SHOEF9G8Z4ZXF6WE      21.0  ...        4920.0    4501.837200\n",
              "5394  PBXEB9ZQ7HHCFXYG      36.0  ...       14614.0   10218.878775\n",
              "5395  NKCEAGXHRYTNTMG7      27.0  ...        5849.0    5359.493997\n",
              "5396  CAGE53FSAFWZRHFF      11.0  ...        5383.0    5220.013568\n",
              "\n",
              "[5397 rows x 15 columns]"
            ]
          },
          "metadata": {
            "tags": []
          },
          "execution_count": 159
        }
      ]
    },
    {
      "cell_type": "code",
      "metadata": {
        "id": "GVCdRSMDNUWl",
        "colab": {
          "base_uri": "https://localhost:8080/",
          "height": 282
        },
        "outputId": "d2ccfa5c-122b-4a22-fa5d-0ca873d737ba"
      },
      "source": [
        "plt.scatter(data['Grade'],data['Selling_Price'])"
      ],
      "execution_count": null,
      "outputs": [
        {
          "output_type": "execute_result",
          "data": {
            "text/plain": [
              "<matplotlib.collections.PathCollection at 0x7f260ce7d358>"
            ]
          },
          "metadata": {
            "tags": []
          },
          "execution_count": 161
        },
        {
          "output_type": "display_data",
          "data": {
            "image/png": "[encoded data removed]",
            "text/plain": [
              "<Figure size 432x288 with 1 Axes>"
            ]
          },
          "metadata": {
            "tags": [],
            "needs_background": "light"
          }
        }
      ]
    },
    {
      "cell_type": "code",
      "metadata": {
        "id": "VhIqLrz_NOuX"
      },
      "source": [
        ""
      ],
      "execution_count": null,
      "outputs": []
    },
    {
      "cell_type": "code",
      "metadata": {
        "id": "1YNifxWsCGp6"
      },
      "source": [
        "X = np.array(data)\n",
        "Y = X[:,-1]\n",
        "X = X[:, 7:14]"
      ],
      "execution_count": null,
      "outputs": []
    },
    {
      "cell_type": "code",
      "metadata": {
        "colab": {
          "base_uri": "https://localhost:8080/"
        },
        "id": "9cq_elQJCO9_",
        "outputId": "7c945c0d-b922-4e75-bce3-c7b1f0ece593"
      },
      "source": [
        "print(X)\n",
        "print(Y)"
      ],
      "execution_count": null,
      "outputs": [
        {
          "output_type": "stream",
          "text": [
            "[[1 68 0.0 ... 11.0 2983.0 4713.0]\n",
            " [0 51 0.0 ... 12.0 7495.0 10352.0]\n",
            " [0 10 0.0 ... 9.0 5752.0 7309.0]\n",
            " ...\n",
            " [3 29 0.0 ... 3.0 5303.0 14614.0]\n",
            " [0 8 0.0 ... 3.0 4334.0 5849.0]\n",
            " [0 94 0.0 ... 7.0 3975.0 5383.0]]\n",
            "[4185.9477 9271.490256000001 6785.701362000001 ... 10218.878775\n",
            " 5359.493997 5220.013568]\n"
          ],
          "name": "stdout"
        }
      ]
    },
    {
      "cell_type": "markdown",
      "metadata": {
        "id": "DSm0b_7nEvX6"
      },
      "source": [
        ""
      ]
    },
    {
      "cell_type": "code",
      "metadata": {
        "colab": {
          "base_uri": "https://localhost:8080/",
          "height": 282
        },
        "id": "hgfQLGdfC2cw",
        "outputId": "d1aa7f09-d179-43f7-99c2-eaf735a4d43b"
      },
      "source": [
        "plt.scatter(Y,X[:,6])"
      ],
      "execution_count": null,
      "outputs": [
        {
          "output_type": "execute_result",
          "data": {
            "text/plain": [
              "<matplotlib.collections.PathCollection at 0x7f260d2b40f0>"
            ]
          },
          "metadata": {
            "tags": []
          },
          "execution_count": 205
        },
        {
          "output_type": "display_data",
          "data": {
            "image/png": "[encoded data removed]",
            "text/plain": [
              "<Figure size 432x288 with 1 Axes>"
            ]
          },
          "metadata": {
            "tags": [],
            "needs_background": "light"
          }
        }
      ]
    },
    {
      "cell_type": "code",
      "metadata": {
        "id": "l9I33JYyC7XS"
      },
      "source": [
        "for i in range(len(Y)):\n",
        "  if Y[i] < 0 :\n",
        "    Y[i] = (X[i,5] + X[i,6])/2"
      ],
      "execution_count": null,
      "outputs": []
    },
    {
      "cell_type": "code",
      "metadata": {
        "id": "2LalRye4DV8w"
      },
      "source": [
        "from sklearn.preprocessing import StandardScaler\n",
        "sc = StandardScaler()\n",
        "X = sc.fit_transform(X)"
      ],
      "execution_count": null,
      "outputs": []
    },
    {
      "cell_type": "code",
      "metadata": {
        "id": "5oK0m4E6DdPO"
      },
      "source": [
        "def cost_function(X, Y, B):\n",
        " m = len(Y)\n",
        " J = np.sum((X.dot(B) - Y) ** 2)/(2 * m)\n",
        " return J"
      ],
      "execution_count": null,
      "outputs": []
    },
    {
      "cell_type": "code",
      "metadata": {
        "id": "IadxU-DZDkjs"
      },
      "source": [
        "##--------------------------------------------\n",
        "def batch_gradient_descent(X, Y, B, alpha, iterations):\n",
        " cost_history = [0] * iterations\n",
        " m = len(Y)\n",
        " \n",
        " for iteration in range(iterations):\n",
        " #print(iteration)\n",
        "  #print(B)\n",
        " # Hypothesis Values\n",
        "  h = X.dot(B)\n",
        "  #print(h)\n",
        " # Difference b/w Hypothesis and Actual Y\n",
        "  loss = h - Y\n",
        "  #print(loss.shape)\n",
        " # Gradient Calculation\n",
        "  #print(X.T.shape)\n",
        "  gradient = X.T.dot(loss) / m\n",
        "  #print(gradient)\n",
        " # Changing Values of B using Gradient\n",
        "  B = B - alpha * gradient\n",
        " # New Cost Value\n",
        "  cost = cost_function(X, Y, B)\n",
        "  cost_history[iteration] = cost\n",
        " \n",
        " return B, cost_history"
      ],
      "execution_count": null,
      "outputs": []
    },
    {
      "cell_type": "code",
      "metadata": {
        "colab": {
          "base_uri": "https://localhost:8080/"
        },
        "id": "sBZ5g1EsDvO4",
        "outputId": "e580ceb2-fd97-423d-9140-b14cdb570651"
      },
      "source": [
        "m = 5000\n",
        "f = 2\n",
        "X_train = X[:m,:]\n",
        "X_train = np.c_[np.ones(len(X_train)),X_train]\n",
        "y_train = Y[:m]\n",
        "X_test = X[m:,:]\n",
        "X_test = np.c_[np.ones(len(X_test)),X_test]\n",
        "y_test = Y[m:]\n",
        "y_train.shape"
      ],
      "execution_count": 248,
      "outputs": [
        {
          "output_type": "execute_result",
          "data": {
            "text/plain": [
              "(5000,)"
            ]
          },
          "metadata": {
            "tags": []
          },
          "execution_count": 248
        }
      ]
    },
    {
      "cell_type": "code",
      "metadata": {
        "id": "-8n_hSf8QjuK"
      },
      "source": [
        ""
      ],
      "execution_count": 248,
      "outputs": []
    },
    {
      "cell_type": "code",
      "metadata": {
        "id": "T4GQnmPSD1hf"
      },
      "source": [
        "# Initial Coefficients\n",
        "B = np.zeros(X_train.shape[1])+ 1.5\n",
        "alpha = 0.005\n",
        "iter_ = 5000\n",
        "newB, cost_history = batch_gradient_descent(X_train, y_train, B, alpha, iter_)"
      ],
      "execution_count": 249,
      "outputs": []
    },
    {
      "cell_type": "code",
      "metadata": {
        "colab": {
          "base_uri": "https://localhost:8080/"
        },
        "id": "HQLVVxTiLwY8",
        "outputId": "00443e7b-eec1-489d-ebed-d58f2824ddcd"
      },
      "source": [
        "print(newB)"
      ],
      "execution_count": 250,
      "outputs": [
        {
          "output_type": "stream",
          "text": [
            "[4578.97524108347 31.313560938028523 -6.448365572144355\n",
            " -1592.0979019332822 118.7778343264043 5.355747500254269 976.1202594677972\n",
            " 1581.8953944042894]\n"
          ],
          "name": "stdout"
        }
      ]
    },
    {
      "cell_type": "code",
      "metadata": {
        "id": "hzRUEUmGPgN1"
      },
      "source": [
        "def pred (X_test,newB) :\n",
        "  ypred = X_test.dot(newB)\n",
        "  return ypred"
      ],
      "execution_count": 251,
      "outputs": []
    },
    {
      "cell_type": "code",
      "metadata": {
        "id": "ALuqkfS5Plyk",
        "colab": {
          "base_uri": "https://localhost:8080/"
        },
        "outputId": "34ead789-e059-41fe-abb0-dcbe0b4971e3"
      },
      "source": [
        "y_pred = pred(X_test,newB)\n",
        "print(y_pred)"
      ],
      "execution_count": 252,
      "outputs": [
        {
          "output_type": "stream",
          "text": [
            "[2751.192897038467 5256.599169008809 3638.8934979391324 7792.0091831043865\n",
            " 5576.688954173382 59.38263570505717 7118.256858288483 2383.231551569579\n",
            " 2292.404368134792 5454.053402139944 4121.339478234822 10436.634081158923\n",
            " 2940.1093091374364 524.9788111057629 -603.7232004551199 3730.042638661762\n",
            " 6090.150821359945 4839.549532002266 9182.73221046244 6896.1603439386645\n",
            " 3282.279858561324 7061.889174412706 4150.565821839018 7465.002408720854\n",
            " 7565.524975529184 7181.563914884135 3358.488916898419 5999.526260053781\n",
            " 9283.112437964915 6363.379779544703 2649.9623999104992 3414.0109174645613\n",
            " 3699.8958010602905 2535.9174133288834 3577.6677784691237\n",
            " 7231.203415825339 1685.903762752237 3183.017035468454 4758.365393236405\n",
            " 3915.5266212551087 8459.641558627378 5259.323253026028 -387.0216598317345\n",
            " 7673.221732957989 5140.880266648852 4595.175017415583 6645.523638486125\n",
            " 2991.822956062513 8120.481955326397 4804.765404076601 2811.3063746477073\n",
            " 10397.260182216423 2722.74807489442 4097.657748153181 6386.659062554452\n",
            " 2229.9166584729332 6000.962027644429 5147.872635545125 3858.2981256114626\n",
            " 2817.3112750600344 113.86483165513255 4953.921793914908\n",
            " 3153.7262095006145 2364.9461232437434 2845.760521710148 2973.410567596879\n",
            " 1425.0780791676943 1470.0451475879659 4637.249657191716 9583.964340364128\n",
            " 8372.860559245397 4959.415853286235 -917.5140781225249 5169.7518362416195\n",
            " 5795.532572621041 3373.5602109464003 5624.703291340804 4281.817767021019\n",
            " 2958.6502184114324 3926.3637303732717 4921.063311175081 4877.379347490774\n",
            " -25.6660014427963 2061.768906137228 3302.7711595847295 3331.7725524880852\n",
            " 6609.519170830302 2749.345547960662 4404.074242989739 3517.979855000877\n",
            " 9366.861776152098 3840.1843479808786 6748.52857108767 3127.169836053492\n",
            " 3445.94347609053 5731.198217072006 1818.3784905412217 1618.29960279554\n",
            " 2470.1451544421707 2207.269136714188 10566.773708231329\n",
            " 7763.6868626570285 -1646.7288059355815 2865.360439572062\n",
            " 8387.186882149472 7833.80794017687 5359.462874568924 5016.521968970206\n",
            " 5091.761292367324 3085.1880331369175 7067.842139969928 -410.9416349618898\n",
            " 2972.3821582126657 2058.429169711419 8066.341734422793 13085.306026293452\n",
            " 8773.441312878007 9081.307619956855 7749.205329665556 3901.6833953428354\n",
            " 5560.125732131049 6347.087427300777 4425.670476425241 6572.321555491442\n",
            " 5965.83902689396 2928.2466851816553 4370.621455567976 4269.282423216751\n",
            " 3323.2585403405724 4785.335586916205 11303.759227903141 5164.847645530985\n",
            " 5387.125202520278 2422.978712537687 -647.6670419639707 2482.170719565156\n",
            " 8499.91276172876 2995.3337237846695 2664.769279781346 4211.788887743003\n",
            " 6645.938533753949 3866.534165756465 1866.1805282527964 -53.86895868099771\n",
            " 8622.719689520092 5322.301088738792 5694.047161541521 4083.565673772053\n",
            " 3582.1320626136603 3720.202558095575 3910.220383060081 2506.786710769946\n",
            " 3166.0309099802075 5020.053988367798 3691.8078040903506 4575.658086636369\n",
            " 3501.0144890644724 3420.0808863801376 4712.380179517988 5402.252171656407\n",
            " 6177.394228730287 9960.165432989987 5847.785410227339 3662.451749824653\n",
            " 7208.428051170388 2299.2852216412166 3191.5402367749475 9159.236676452849\n",
            " -1371.3693639413905 3887.3805949814314 5911.848907783143\n",
            " 996.1594614188537 4395.229286134613 7178.137697399959 783.9811729205874\n",
            " 5459.313345347701 6887.578932006809 3850.5111840775626 4595.951575177778\n",
            " 2446.8025658091797 8429.12977081614 3493.433207338109 3412.4383661809115\n",
            " 5383.730220952563 4297.212292001828 8134.875607414845 4324.339457094645\n",
            " -1852.4155000028104 6857.206336413843 11963.269561155184\n",
            " 5642.9983519524485 2848.0047360057015 5106.9471541742605\n",
            " 10660.75013490676 5772.787568981363 4107.006662096987 7193.911843904637\n",
            " 3323.6659076992805 4796.90668601709 4561.955274621354 2690.4069946666905\n",
            " 4825.951871610359 5629.714050615953 5416.785070361131 -1552.3649816024981\n",
            " 5139.583450518485 5524.15367043032 5998.914557654917 4417.473010048888\n",
            " 2963.550422841892 8050.551656659369 5582.598824040404 7499.322109015392\n",
            " 5750.378503998957 4989.540505766805 8404.30646957164 5524.323138267094\n",
            " 5367.780320126551 7337.047542862461 6194.041051777553 2351.9205315444415\n",
            " 3927.796167899543 4267.569497809316 -1851.3701246145417\n",
            " 15969.715122108144 5971.838854449923 2771.079664334854 3458.152998931946\n",
            " 3972.4141178561167 6192.954713100476 4918.931350490571 1760.1575507375228\n",
            " 8237.75332865733 3657.3060848023206 6608.086848346844 6534.015794312445\n",
            " 3880.7102375200166 4282.027181026585 4533.160291066555 6932.579919879465\n",
            " 5199.555259557028 2743.224524428543 5038.826622336118 3995.743698055874\n",
            " 4628.778855075203 7108.55541998994 5302.044577261589 4711.949408041411\n",
            " 1480.3981567349624 6682.546526060783 7693.474060889255 10688.627990130022\n",
            " 386.7379962551949 4875.384330453956 10282.432119802226 4833.871699313593\n",
            " 2611.662641550064 5795.387422394219 2599.0792902568055 14576.3643953663\n",
            " 5494.730984937797 5785.681295592827 5987.882605999217 3665.8301016902155\n",
            " 6424.551303986518 10567.135092221863 787.2821172439035 2389.5853044424653\n",
            " 3696.9319908485795 3623.43032221084 5384.867391884261 5556.816591973305\n",
            " 9011.646724337128 3665.3213386059733 2801.400580223963 3774.954163363086\n",
            " 3277.7894110853395 11621.703517044032 6504.455448212688 8865.351572618762\n",
            " 3152.2589774317676 2608.6907866739925 3561.0856299789025\n",
            " 4322.701349775097 4807.456301251235 4131.973948146557 4089.714035388045\n",
            " 2977.008307379725 4253.104618698303 3684.9278338456083 4159.392266870787\n",
            " 3674.7946638360854 4598.677752653358 5489.929603052 2302.9126961969223\n",
            " -1085.7545052377718 5517.734017194329 -147.14786366560634\n",
            " 6918.949365745321 6565.713441662414 4448.72993273326 3212.40118265417\n",
            " 3858.621711994775 4462.566750103569 2472.8132084119807 10008.867489446397\n",
            " 7835.740210561924 6306.379898129302 686.4994744511396 8761.30848215635\n",
            " 6734.568154760386 4575.2265727326785 8352.264462529916 3153.888582635488\n",
            " 3239.543078375187 4153.856240949529 6652.681501020321 4655.607191105843\n",
            " 3272.745375128637 3122.675103654179 3207.484332695669 6237.237235260325\n",
            " 2640.1417914975527 4194.957416883067 4670.69650409081 -1006.1257215961225\n",
            " -152.53709589783762 4064.474848321742 4385.128815805327 6010.428339224714\n",
            " -1400.3871531657005 9389.659799345634 7430.124366979275 7278.485151700195\n",
            " 4677.691994332396 4304.423215578805 2480.3162395563722 8108.8671183907645\n",
            " 3670.28666358368 6657.491224803533 4081.4720573709924 588.4086193963856\n",
            " 4126.821233868446 2593.396864513891 4241.164404486514 4815.383304623856\n",
            " 1566.4272057708465 8689.634515442536 3947.9589828725975 8093.368748829376\n",
            " 6810.041579517055 5198.6295316290425 1967.1764503263207 6986.835131077425\n",
            " 4405.737356105173 3227.986975386647 4765.792769940892 3066.0908997771317\n",
            " 751.7391780073503 11143.21279195259 3569.3836229767094 -2140.007403804681\n",
            " 4388.2591409705365 4998.037053435972 4209.470648470051 6280.376805883258\n",
            " 1004.9330266810939 1916.6271386365333 2956.0493116268217\n",
            " 2125.911284317288 3270.4384929535863 5750.567134712454 8221.683172066738\n",
            " 7673.151046912046 -1543.3944701234077 1601.7605130626157\n",
            " 3605.6097365731057 8492.125991027002 7345.781747253608 6651.27763673658\n",
            " 1073.4364403740392 4425.466852457982 2413.6200147477666 6721.111935251175\n",
            " 3662.2822986634746 5900.612506257162 8095.761814795898 3062.3502439448935\n",
            " -1027.7652515506475 128.60894449199566 8831.630015637014\n",
            " 8388.664147547399 9609.684735726267 4573.239865372688 9520.560168607757\n",
            " 5305.3679569040605 5268.2449783671145]\n"
          ],
          "name": "stdout"
        }
      ]
    },
    {
      "cell_type": "code",
      "metadata": {
        "colab": {
          "base_uri": "https://localhost:8080/"
        },
        "id": "BDLWD4TkPnxW",
        "outputId": "db5e4dbe-5d0c-4f38-b757-dbb5837bd886"
      },
      "source": [
        "def r2(y_,y):\n",
        " sst = np.sum((y-y.mean())**2)\n",
        " ssr = np.sum((y_-y)**2)\n",
        " r2 = 1-(ssr/sst)\n",
        " return(r2)\n",
        "#----------------\n",
        "r2(y_pred,y_test)"
      ],
      "execution_count": 253,
      "outputs": [
        {
          "output_type": "execute_result",
          "data": {
            "text/plain": [
              "0.9558749071629957"
            ]
          },
          "metadata": {
            "tags": []
          },
          "execution_count": 253
        }
      ]
    },
    {
      "cell_type": "code",
      "metadata": {
        "colab": {
          "base_uri": "https://localhost:8080/",
          "height": 276
        },
        "id": "STMQyQ8RPpsa",
        "outputId": "b46b54e1-f690-4fbb-bb55-897e2aa8e891"
      },
      "source": [
        "x_coordinate = [ 25 * i for i in range(len(cost_history)) ]\n",
        "plt.plot(x_coordinate,cost_history)\n",
        "plt.show()"
      ],
      "execution_count": 254,
      "outputs": [
        {
          "output_type": "display_data",
          "data": {
            "image/png": "[encoded data removed]",
            "text/plain": [
              "<Figure size 432x288 with 1 Axes>"
            ]
          },
          "metadata": {
            "tags": [],
            "needs_background": "light"
          }
        }
      ]
    },
    {
      "cell_type": "code",
      "metadata": {
        "id": "cUp2rmM-TPZy"
      },
      "source": [
        "from sklearn.linear_model import LinearRegression "
      ],
      "execution_count": 255,
      "outputs": []
    },
    {
      "cell_type": "code",
      "metadata": {
        "colab": {
          "base_uri": "https://localhost:8080/"
        },
        "id": "6EENLqJDYken",
        "outputId": "05a48e10-cd01-44d7-dc5e-033bc8f33b4c"
      },
      "source": [
        "regr = LinearRegression() \n",
        "regr.fit(X_train, y_train) \n",
        "print(regr.score(X_test, y_test)) "
      ],
      "execution_count": 256,
      "outputs": [
        {
          "output_type": "stream",
          "text": [
            "0.9558804947816366\n"
          ],
          "name": "stdout"
        }
      ]
    },
    {
      "cell_type": "code",
      "metadata": {
        "id": "tDYkiSHNaFUv",
        "colab": {
          "resources": {
            "http://localhost:8080/nbextensions/google.colab/files.js": {
              "data": "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",
              "ok": true,
              "headers": [
                [
                  "content-type",
                  "application/javascript"
                ]
              ],
              "status": 200,
              "status_text": ""
            }
          },
          "base_uri": "https://localhost:8080/",
          "height": 38
        },
        "outputId": "126e721f-fcff-422c-9713-72f19a6894e1"
      },
      "source": [
        "from google.colab import files\n",
        "uploaded = files.upload()"
      ],
      "execution_count": 257,
      "outputs": [
        {
          "output_type": "display_data",
          "data": {
            "text/html": [
              "\n",
              "     <input type=\"file\" id=\"files-97de7689-24da-4c13-afba-6e9f8eb73f2d\" name=\"files[]\" multiple disabled\n",
              "        style=\"border:none\" />\n",
              "     <output id=\"result-97de7689-24da-4c13-afba-6e9f8eb73f2d\">\n",
              "      Upload widget is only available when the cell has been executed in the\n",
              "      current browser session. Please rerun this cell to enable.\n",
              "      </output>\n",
              "      <script src=\"/nbextensions/google.colab/files.js\"></script> "
            ],
            "text/plain": [
              "<IPython.core.display.HTML object>"
            ]
          },
          "metadata": {
            "tags": []
          }
        }
      ]
    },
    {
      "cell_type": "code",
      "metadata": {
        "colab": {
          "base_uri": "https://localhost:8080/",
          "height": 555
        },
        "id": "M-UGS0VQdHBY",
        "outputId": "a94491a2-7526-47c3-a357-6e3097e76649"
      },
      "source": [
        "td = pd.read_csv(\"test.csv\")\n",
        "print(td.head(5))\n",
        "td"
      ],
      "execution_count": 309,
      "outputs": [
        {
          "output_type": "stream",
          "text": [
            "         Product_id  Stall_no  ... Minimum_price  Maximum_price\n",
            "0  SCHE4YSTDVPVZVXW      39.0  ...        2576.0           3340\n",
            "1  ACCEGCATKHNRXUHW      49.0  ...        1202.0           1955\n",
            "2  NKCE6GJ5XVJDXNNZ       1.0  ...        7175.0          15715\n",
            "3  NKCEB8BK3ZXDHDHM       8.0  ...        5404.0          13078\n",
            "4  TOPEFDXSAHRNPF94      33.0  ...        4069.0           6244\n",
            "\n",
            "[5 rows x 14 columns]\n"
          ],
          "name": "stdout"
        },
        {
          "output_type": "execute_result",
          "data": {
            "text/html": [
              "<div>\n",
              "<style scoped>\n",
              "    .dataframe tbody tr th:only-of-type {\n",
              "        vertical-align: middle;\n",
              "    }\n",
              "\n",
              "    .dataframe tbody tr th {\n",
              "        vertical-align: top;\n",
              "    }\n",
              "\n",
              "    .dataframe thead th {\n",
              "        text-align: right;\n",
              "    }\n",
              "</style>\n",
              "<table border=\"1\" class=\"dataframe\">\n",
              "  <thead>\n",
              "    <tr style=\"text-align: right;\">\n",
              "      <th></th>\n",
              "      <th>Product_id</th>\n",
              "      <th>Stall_no</th>\n",
              "      <th>instock_date</th>\n",
              "      <th>Market_Category</th>\n",
              "      <th>Customer_name</th>\n",
              "      <th>Loyalty_customer</th>\n",
              "      <th>Product_Category</th>\n",
              "      <th>Grade</th>\n",
              "      <th>Demand</th>\n",
              "      <th>Discount_avail</th>\n",
              "      <th>charges_1</th>\n",
              "      <th>charges_2 (%)</th>\n",
              "      <th>Minimum_price</th>\n",
              "      <th>Maximum_price</th>\n",
              "    </tr>\n",
              "  </thead>\n",
              "  <tbody>\n",
              "    <tr>\n",
              "      <th>0</th>\n",
              "      <td>SCHE4YSTDVPVZVXW</td>\n",
              "      <td>39.0</td>\n",
              "      <td>2016-01-13 07:45:08.000</td>\n",
              "      <td>205</td>\n",
              "      <td>Ivanka</td>\n",
              "      <td>No</td>\n",
              "      <td>Fashion</td>\n",
              "      <td>0</td>\n",
              "      <td>90</td>\n",
              "      <td>0</td>\n",
              "      <td>380.0</td>\n",
              "      <td>16.0</td>\n",
              "      <td>2576.0</td>\n",
              "      <td>3340</td>\n",
              "    </tr>\n",
              "    <tr>\n",
              "      <th>1</th>\n",
              "      <td>ACCEGCATKHNRXUHW</td>\n",
              "      <td>49.0</td>\n",
              "      <td>2015-08-23 20:37:05.000</td>\n",
              "      <td>3</td>\n",
              "      <td>Isaak</td>\n",
              "      <td>Yes</td>\n",
              "      <td>Fashion</td>\n",
              "      <td>0</td>\n",
              "      <td>87</td>\n",
              "      <td>0</td>\n",
              "      <td>393.0</td>\n",
              "      <td>16.0</td>\n",
              "      <td>1202.0</td>\n",
              "      <td>1955</td>\n",
              "    </tr>\n",
              "    <tr>\n",
              "      <th>2</th>\n",
              "      <td>NKCE6GJ5XVJDXNNZ</td>\n",
              "      <td>1.0</td>\n",
              "      <td>2015-11-14 18:12:39.000</td>\n",
              "      <td>183</td>\n",
              "      <td>Analiese</td>\n",
              "      <td>No</td>\n",
              "      <td>Technology</td>\n",
              "      <td>2</td>\n",
              "      <td>55</td>\n",
              "      <td>0</td>\n",
              "      <td>493.0</td>\n",
              "      <td>9.0</td>\n",
              "      <td>7175.0</td>\n",
              "      <td>15715</td>\n",
              "    </tr>\n",
              "    <tr>\n",
              "      <th>3</th>\n",
              "      <td>NKCEB8BK3ZXDHDHM</td>\n",
              "      <td>8.0</td>\n",
              "      <td>2015-11-21 04:56:19.000</td>\n",
              "      <td>358</td>\n",
              "      <td>Rusty</td>\n",
              "      <td>Yes</td>\n",
              "      <td>Child_care</td>\n",
              "      <td>3</td>\n",
              "      <td>86</td>\n",
              "      <td>0</td>\n",
              "      <td>303.0</td>\n",
              "      <td>16.0</td>\n",
              "      <td>5404.0</td>\n",
              "      <td>13078</td>\n",
              "    </tr>\n",
              "    <tr>\n",
              "      <th>4</th>\n",
              "      <td>TOPEFDXSAHRNPF94</td>\n",
              "      <td>33.0</td>\n",
              "      <td>2015-05-06 15:09:46.000</td>\n",
              "      <td>167</td>\n",
              "      <td>Eloise</td>\n",
              "      <td>No</td>\n",
              "      <td>Technology</td>\n",
              "      <td>0</td>\n",
              "      <td>27</td>\n",
              "      <td>0</td>\n",
              "      <td>567.0</td>\n",
              "      <td>16.0</td>\n",
              "      <td>4069.0</td>\n",
              "      <td>6244</td>\n",
              "    </tr>\n",
              "    <tr>\n",
              "      <th>...</th>\n",
              "      <td>...</td>\n",
              "      <td>...</td>\n",
              "      <td>...</td>\n",
              "      <td>...</td>\n",
              "      <td>...</td>\n",
              "      <td>...</td>\n",
              "      <td>...</td>\n",
              "      <td>...</td>\n",
              "      <td>...</td>\n",
              "      <td>...</td>\n",
              "      <td>...</td>\n",
              "      <td>...</td>\n",
              "      <td>...</td>\n",
              "      <td>...</td>\n",
              "    </tr>\n",
              "    <tr>\n",
              "      <th>3425</th>\n",
              "      <td>BBAE9K7BXFUTDNBK</td>\n",
              "      <td>9.0</td>\n",
              "      <td>2015-08-15 21:17:17.000</td>\n",
              "      <td>58</td>\n",
              "      <td>Davion</td>\n",
              "      <td>Yes</td>\n",
              "      <td>Pet_care</td>\n",
              "      <td>0</td>\n",
              "      <td>39</td>\n",
              "      <td>0</td>\n",
              "      <td>117.0</td>\n",
              "      <td>5.0</td>\n",
              "      <td>3094.0</td>\n",
              "      <td>4674</td>\n",
              "    </tr>\n",
              "    <tr>\n",
              "      <th>3426</th>\n",
              "      <td>RTRDYPA4PJHCJCGF</td>\n",
              "      <td>30.0</td>\n",
              "      <td>2015-12-04 01:51:47.000</td>\n",
              "      <td>358</td>\n",
              "      <td>Maiah</td>\n",
              "      <td>Yes</td>\n",
              "      <td>Technology</td>\n",
              "      <td>3</td>\n",
              "      <td>17</td>\n",
              "      <td>0</td>\n",
              "      <td>509.0</td>\n",
              "      <td>6.0</td>\n",
              "      <td>3384.0</td>\n",
              "      <td>14105</td>\n",
              "    </tr>\n",
              "    <tr>\n",
              "      <th>3427</th>\n",
              "      <td>TUNE8FWQBS7TVVT7</td>\n",
              "      <td>14.0</td>\n",
              "      <td>2016-03-28 20:55:47.000</td>\n",
              "      <td>106</td>\n",
              "      <td>Gwendolen</td>\n",
              "      <td>Yes</td>\n",
              "      <td>Educational</td>\n",
              "      <td>0</td>\n",
              "      <td>36</td>\n",
              "      <td>0</td>\n",
              "      <td>150.0</td>\n",
              "      <td>17.0</td>\n",
              "      <td>710.0</td>\n",
              "      <td>10894</td>\n",
              "    </tr>\n",
              "    <tr>\n",
              "      <th>3428</th>\n",
              "      <td>NKCEGMUABCRGUZPE</td>\n",
              "      <td>1.0</td>\n",
              "      <td>2015-05-23 07:41:36.000</td>\n",
              "      <td>104</td>\n",
              "      <td>Addilynn</td>\n",
              "      <td>Yes</td>\n",
              "      <td>Child_care</td>\n",
              "      <td>0</td>\n",
              "      <td>63</td>\n",
              "      <td>0</td>\n",
              "      <td>325.0</td>\n",
              "      <td>15.0</td>\n",
              "      <td>1477.0</td>\n",
              "      <td>5165</td>\n",
              "    </tr>\n",
              "    <tr>\n",
              "      <th>3429</th>\n",
              "      <td>RNGE7M92KAQWUBCS</td>\n",
              "      <td>3.0</td>\n",
              "      <td>2015-08-16 22:19:46.000</td>\n",
              "      <td>165</td>\n",
              "      <td>Charlize</td>\n",
              "      <td>No</td>\n",
              "      <td>Repair</td>\n",
              "      <td>0</td>\n",
              "      <td>92</td>\n",
              "      <td>1</td>\n",
              "      <td>228.0</td>\n",
              "      <td>9.0</td>\n",
              "      <td>5538.0</td>\n",
              "      <td>7506</td>\n",
              "    </tr>\n",
              "  </tbody>\n",
              "</table>\n",
              "<p>3430 rows × 14 columns</p>\n",
              "</div>"
            ],
            "text/plain": [
              "            Product_id  Stall_no  ... Minimum_price  Maximum_price\n",
              "0     SCHE4YSTDVPVZVXW      39.0  ...        2576.0           3340\n",
              "1     ACCEGCATKHNRXUHW      49.0  ...        1202.0           1955\n",
              "2     NKCE6GJ5XVJDXNNZ       1.0  ...        7175.0          15715\n",
              "3     NKCEB8BK3ZXDHDHM       8.0  ...        5404.0          13078\n",
              "4     TOPEFDXSAHRNPF94      33.0  ...        4069.0           6244\n",
              "...                ...       ...  ...           ...            ...\n",
              "3425  BBAE9K7BXFUTDNBK       9.0  ...        3094.0           4674\n",
              "3426  RTRDYPA4PJHCJCGF      30.0  ...        3384.0          14105\n",
              "3427  TUNE8FWQBS7TVVT7      14.0  ...         710.0          10894\n",
              "3428  NKCEGMUABCRGUZPE       1.0  ...        1477.0           5165\n",
              "3429  RNGE7M92KAQWUBCS       3.0  ...        5538.0           7506\n",
              "\n",
              "[3430 rows x 14 columns]"
            ]
          },
          "metadata": {
            "tags": []
          },
          "execution_count": 309
        }
      ]
    },
    {
      "cell_type": "code",
      "metadata": {
        "colab": {
          "base_uri": "https://localhost:8080/"
        },
        "id": "yt9lncITdbcx",
        "outputId": "ca2994ea-bd8f-46f1-c223-8903015b7473"
      },
      "source": [
        "tdX = np.array(td)\n",
        "print(tdX)"
      ],
      "execution_count": 310,
      "outputs": [
        {
          "output_type": "stream",
          "text": [
            "[['SCHE4YSTDVPVZVXW' 39.0 '2016-01-13 07:45:08.000' ... 16.0 2576.0 3340]\n",
            " ['ACCEGCATKHNRXUHW' 49.0 '2015-08-23 20:37:05.000' ... 16.0 1202.0 1955]\n",
            " ['NKCE6GJ5XVJDXNNZ' 1.0 '2015-11-14 18:12:39.000' ... 9.0 7175.0 15715]\n",
            " ...\n",
            " ['TUNE8FWQBS7TVVT7' 14.0 '2016-03-28 20:55:47.000' ... 17.0 710.0 10894]\n",
            " ['NKCEGMUABCRGUZPE' 1.0 '2015-05-23 07:41:36.000' ... 15.0 1477.0 5165]\n",
            " ['RNGE7M92KAQWUBCS' 3.0 '2015-08-16 22:19:46.000' ... 9.0 5538.0 7506]]\n"
          ],
          "name": "stdout"
        }
      ]
    },
    {
      "cell_type": "code",
      "metadata": {
        "colab": {
          "base_uri": "https://localhost:8080/"
        },
        "id": "-qGnAifJdzPY",
        "outputId": "43504945-0a97-4970-8aae-95fbaed31852"
      },
      "source": [
        "tdX = tdX[:, 7:14]\n",
        "print(tdX)\n",
        "sc = StandardScaler()\n",
        "tdX = sc.fit_transform(tdX)"
      ],
      "execution_count": 311,
      "outputs": [
        {
          "output_type": "stream",
          "text": [
            "[[0 90 0 ... 16.0 2576.0 3340]\n",
            " [0 87 0 ... 16.0 1202.0 1955]\n",
            " [2 55 0 ... 9.0 7175.0 15715]\n",
            " ...\n",
            " [0 36 0 ... 17.0 710.0 10894]\n",
            " [0 63 0 ... 15.0 1477.0 5165]\n",
            " [0 92 1 ... 9.0 5538.0 7506]]\n"
          ],
          "name": "stdout"
        }
      ]
    },
    {
      "cell_type": "code",
      "metadata": {
        "id": "SYBTNpaTd9l2"
      },
      "source": [
        "tdX = np.c_[np.ones(len(tdX)),tdX]\n",
        "tdY = pred(tdX,newB)"
      ],
      "execution_count": 312,
      "outputs": []
    },
    {
      "cell_type": "code",
      "metadata": {
        "colab": {
          "base_uri": "https://localhost:8080/"
        },
        "id": "9-1CuxL-eC8a",
        "outputId": "f96005f6-6996-466b-9b42-3d18eb11f4fe"
      },
      "source": [
        "print(tdY)"
      ],
      "execution_count": 349,
      "outputs": [
        {
          "output_type": "stream",
          "text": [
            "[3655.2429120357606 2439.711649623965 11357.437249867926 ...\n",
            " 5956.560937921883 3922.8549803349374 2168.1631478533554]\n"
          ],
          "name": "stdout"
        }
      ]
    },
    {
      "cell_type": "code",
      "metadata": {
        "id": "ElxSu_Z7eXgC"
      },
      "source": [
        "tdf = pd.DataFrame(data = td['Product_id']) "
      ],
      "execution_count": 350,
      "outputs": []
    },
    {
      "cell_type": "code",
      "metadata": {
        "colab": {
          "base_uri": "https://localhost:8080/",
          "height": 419
        },
        "id": "e4z_O1IXe2Ii",
        "outputId": "d00eeb4a-7f94-4909-8c6c-36c66b9b4698"
      },
      "source": [
        "tdf['Selling_Price'] = tdY\n",
        "tdf"
      ],
      "execution_count": 351,
      "outputs": [
        {
          "output_type": "execute_result",
          "data": {
            "text/html": [
              "<div>\n",
              "<style scoped>\n",
              "    .dataframe tbody tr th:only-of-type {\n",
              "        vertical-align: middle;\n",
              "    }\n",
              "\n",
              "    .dataframe tbody tr th {\n",
              "        vertical-align: top;\n",
              "    }\n",
              "\n",
              "    .dataframe thead th {\n",
              "        text-align: right;\n",
              "    }\n",
              "</style>\n",
              "<table border=\"1\" class=\"dataframe\">\n",
              "  <thead>\n",
              "    <tr style=\"text-align: right;\">\n",
              "      <th></th>\n",
              "      <th>Product_id</th>\n",
              "      <th>Selling_Price</th>\n",
              "    </tr>\n",
              "  </thead>\n",
              "  <tbody>\n",
              "    <tr>\n",
              "      <th>0</th>\n",
              "      <td>SCHE4YSTDVPVZVXW</td>\n",
              "      <td>3655.24</td>\n",
              "    </tr>\n",
              "    <tr>\n",
              "      <th>1</th>\n",
              "      <td>ACCEGCATKHNRXUHW</td>\n",
              "      <td>2439.71</td>\n",
              "    </tr>\n",
              "    <tr>\n",
              "      <th>2</th>\n",
              "      <td>NKCE6GJ5XVJDXNNZ</td>\n",
              "      <td>11357.4</td>\n",
              "    </tr>\n",
              "    <tr>\n",
              "      <th>3</th>\n",
              "      <td>NKCEB8BK3ZXDHDHM</td>\n",
              "      <td>9248.77</td>\n",
              "    </tr>\n",
              "    <tr>\n",
              "      <th>4</th>\n",
              "      <td>TOPEFDXSAHRNPF94</td>\n",
              "      <td>5800.63</td>\n",
              "    </tr>\n",
              "    <tr>\n",
              "      <th>...</th>\n",
              "      <td>...</td>\n",
              "      <td>...</td>\n",
              "    </tr>\n",
              "    <tr>\n",
              "      <th>3425</th>\n",
              "      <td>BBAE9K7BXFUTDNBK</td>\n",
              "      <td>4225.88</td>\n",
              "    </tr>\n",
              "    <tr>\n",
              "      <th>3426</th>\n",
              "      <td>RTRDYPA4PJHCJCGF</td>\n",
              "      <td>8996.06</td>\n",
              "    </tr>\n",
              "    <tr>\n",
              "      <th>3427</th>\n",
              "      <td>TUNE8FWQBS7TVVT7</td>\n",
              "      <td>5956.56</td>\n",
              "    </tr>\n",
              "    <tr>\n",
              "      <th>3428</th>\n",
              "      <td>NKCEGMUABCRGUZPE</td>\n",
              "      <td>3922.85</td>\n",
              "    </tr>\n",
              "    <tr>\n",
              "      <th>3429</th>\n",
              "      <td>RNGE7M92KAQWUBCS</td>\n",
              "      <td>2168.16</td>\n",
              "    </tr>\n",
              "  </tbody>\n",
              "</table>\n",
              "<p>3430 rows × 2 columns</p>\n",
              "</div>"
            ],
            "text/plain": [
              "            Product_id Selling_Price\n",
              "0     SCHE4YSTDVPVZVXW       3655.24\n",
              "1     ACCEGCATKHNRXUHW       2439.71\n",
              "2     NKCE6GJ5XVJDXNNZ       11357.4\n",
              "3     NKCEB8BK3ZXDHDHM       9248.77\n",
              "4     TOPEFDXSAHRNPF94       5800.63\n",
              "...                ...           ...\n",
              "3425  BBAE9K7BXFUTDNBK       4225.88\n",
              "3426  RTRDYPA4PJHCJCGF       8996.06\n",
              "3427  TUNE8FWQBS7TVVT7       5956.56\n",
              "3428  NKCEGMUABCRGUZPE       3922.85\n",
              "3429  RNGE7M92KAQWUBCS       2168.16\n",
              "\n",
              "[3430 rows x 2 columns]"
            ]
          },
          "metadata": {
            "tags": []
          },
          "execution_count": 351
        }
      ]
    },
    {
      "cell_type": "code",
      "metadata": {
        "colab": {
          "base_uri": "https://localhost:8080/",
          "height": 17
        },
        "id": "mcPeDbHse80e",
        "outputId": "660a4fb7-e1cc-4c7b-e77b-9f7ae97e6f21"
      },
      "source": [
        "from google.colab import files\n",
        "tdf.to_csv(\"submission3.csv\") \n",
        "files.download(\"submission3.csv\")"
      ],
      "execution_count": 352,
      "outputs": [
        {
          "output_type": "display_data",
          "data": {
            "application/javascript": [
              "\n",
              "    async function download(id, filename, size) {\n",
              "      if (!google.colab.kernel.accessAllowed) {\n",
              "        return;\n",
              "      }\n",
              "      const div = document.createElement('div');\n",
              "      const label = document.createElement('label');\n",
              "      label.textContent = `Downloading \"${filename}\": `;\n",
              "      div.appendChild(label);\n",
              "      const progress = document.createElement('progress');\n",
              "      progress.max = size;\n",
              "      div.appendChild(progress);\n",
              "      document.body.appendChild(div);\n",
              "\n",
              "      const buffers = [];\n",
              "      let downloaded = 0;\n",
              "\n",
              "      const channel = await google.colab.kernel.comms.open(id);\n",
              "      // Send a message to notify the kernel that we're ready.\n",
              "      channel.send({})\n",
              "\n",
              "      for await (const message of channel.messages) {\n",
              "        // Send a message to notify the kernel that we're ready.\n",
              "        channel.send({})\n",
              "        if (message.buffers) {\n",
              "          for (const buffer of message.buffers) {\n",
              "            buffers.push(buffer);\n",
              "            downloaded += buffer.byteLength;\n",
              "            progress.value = downloaded;\n",
              "          }\n",
              "        }\n",
              "      }\n",
              "      const blob = new Blob(buffers, {type: 'application/binary'});\n",
              "      const a = document.createElement('a');\n",
              "      a.href = window.URL.createObjectURL(blob);\n",
              "      a.download = filename;\n",
              "      div.appendChild(a);\n",
              "      a.click();\n",
              "      div.remove();\n",
              "    }\n",
              "  "
            ],
            "text/plain": [
              "<IPython.core.display.Javascript object>"
            ]
          },
          "metadata": {
            "tags": []
          }
        },
        {
          "output_type": "display_data",
          "data": {
            "application/javascript": [
              "download(\"download_935c091f-3d4a-4de9-922c-93416d640130\", \"submission3.csv\", 136840)"
            ],
            "text/plain": [
              "<IPython.core.display.Javascript object>"
            ]
          },
          "metadata": {
            "tags": []
          }
        }
      ]
    },
    {
      "cell_type": "code",
      "metadata": {
        "id": "ILGyZeiSmXxr"
      },
      "source": [
        "def MAXMIN(td) :\n",
        "  MAXP = 0\n",
        "  MINP = 9999999\n",
        "  cM = 0\n",
        "  cm = 0\n",
        "  maxparr = np.array(td['Maximum_price'])\n",
        "  minparr = np.array(td['Minimum_price'])\n",
        "  for i in range(len(maxparr)):\n",
        "    if maxparr[i] > MAXP and np.isnan(maxparr[i]) == 0:\n",
        "      cM = cM + 1\n",
        "      MAXP += maxparr[i]\n",
        "    if minparr[i] < MINP and np.isnan(minparr[i]) == 0:\n",
        "      cm = cm + 1\n",
        "      MINP += minparr[i]\n",
        "  return MAXP/cM ,MINP/cm    "
      ],
      "execution_count": 338,
      "outputs": []
    },
    {
      "cell_type": "code",
      "metadata": {
        "id": "9pL7NLrzqIRV"
      },
      "source": [
        "avmax,avmin = MAXMIN(td)"
      ],
      "execution_count": 339,
      "outputs": []
    },
    {
      "cell_type": "code",
      "metadata": {
        "colab": {
          "base_uri": "https://localhost:8080/"
        },
        "id": "iTAd_HS8qWU2",
        "outputId": "4bd8e2bc-2491-4bbc-9503-38e2d85ad866"
      },
      "source": [
        "avmax"
      ],
      "execution_count": 334,
      "outputs": [
        {
          "output_type": "execute_result",
          "data": {
            "text/plain": [
              "27954"
            ]
          },
          "metadata": {
            "tags": []
          },
          "execution_count": 334
        }
      ]
    },
    {
      "cell_type": "code",
      "metadata": {
        "colab": {
          "base_uri": "https://localhost:8080/"
        },
        "id": "qSnEw3NgqdOc",
        "outputId": "c39b5770-2524-4a7d-871e-83fd3be5e8d4"
      },
      "source": [
        "avmin"
      ],
      "execution_count": 335,
      "outputs": [
        {
          "output_type": "execute_result",
          "data": {
            "text/plain": [
              "124.0"
            ]
          },
          "metadata": {
            "tags": []
          },
          "execution_count": 335
        }
      ]
    },
    {
      "cell_type": "code",
      "metadata": {
        "id": "U6BOD6a0qeHZ"
      },
      "source": [
        "av = (avmax+avmin)/2\n",
        "for i in range(len(tdY)):\n",
        "  if np.isnan(tdY[i]) :\n",
        "    tdY[i] = av\n",
        "  if tdY[i] < 0 :\n",
        "    tdY[i] = av  "
      ],
      "execution_count": 348,
      "outputs": []
    },
    {
      "cell_type": "code",
      "metadata": {
        "id": "5URAd6n4shOB"
      },
      "source": [
        ""
      ],
      "execution_count": null,
      "outputs": []
    }
  ]
}